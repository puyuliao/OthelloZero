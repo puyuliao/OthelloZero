{
  "nbformat": 4,
  "nbformat_minor": 0,
  "metadata": {
    "accelerator": "GPU",
    "colab": {
      "name": "Oz.ipynb",
      "provenance": [],
      "collapsed_sections": []
    },
    "kernelspec": {
      "display_name": "Python 3",
      "name": "python3"
    },
    "language_info": {
      "name": "python"
    }
  },
  "cells": [
    {
      "cell_type": "code",
      "metadata": {
        "colab": {
          "base_uri": "https://localhost:8080/"
        },
        "id": "MPRgd2j1srWb",
        "outputId": "badee388-412b-4c02-a777-cc3962219221"
      },
      "source": [
        "from google.colab import drive\n",
        "import os\n",
        "drive.mount('/content/drive')\n",
        "Workspace = '/content/drive/MyDrive/Othello_zero/'\n",
        "# workspace layout\n",
        "# Othello_zero/ \n",
        "#   models/\n",
        "#     checkpointxxxx.pt\n",
        "#     ...\n",
        "#   *.py"
      ],
      "execution_count": 1,
      "outputs": [
        {
          "output_type": "stream",
          "name": "stdout",
          "text": [
            "Mounted at /content/drive\n"
          ]
        }
      ]
    },
    {
      "cell_type": "code",
      "metadata": {
        "colab": {
          "base_uri": "https://localhost:8080/"
        },
        "id": "NedG6DAdyusz",
        "outputId": "7d910906-7806-480d-b96a-f6b92336573e"
      },
      "source": [
        "!nvidia-smi"
      ],
      "execution_count": 2,
      "outputs": [
        {
          "output_type": "stream",
          "name": "stdout",
          "text": [
            "Thu Jan 27 01:15:27 2022       \n",
            "+-----------------------------------------------------------------------------+\n",
            "| NVIDIA-SMI 495.46       Driver Version: 460.32.03    CUDA Version: 11.2     |\n",
            "|-------------------------------+----------------------+----------------------+\n",
            "| GPU  Name        Persistence-M| Bus-Id        Disp.A | Volatile Uncorr. ECC |\n",
            "| Fan  Temp  Perf  Pwr:Usage/Cap|         Memory-Usage | GPU-Util  Compute M. |\n",
            "|                               |                      |               MIG M. |\n",
            "|===============================+======================+======================|\n",
            "|   0  Tesla K80           Off  | 00000000:00:04.0 Off |                    0 |\n",
            "| N/A   52C    P8    33W / 149W |      0MiB / 11441MiB |      0%      Default |\n",
            "|                               |                      |                  N/A |\n",
            "+-------------------------------+----------------------+----------------------+\n",
            "                                                                               \n",
            "+-----------------------------------------------------------------------------+\n",
            "| Processes:                                                                  |\n",
            "|  GPU   GI   CI        PID   Type   Process name                  GPU Memory |\n",
            "|        ID   ID                                                   Usage      |\n",
            "|=============================================================================|\n",
            "|  No running processes found                                                 |\n",
            "+-----------------------------------------------------------------------------+\n"
          ]
        }
      ]
    },
    {
      "cell_type": "code",
      "metadata": {
        "colab": {
          "base_uri": "https://localhost:8080/"
        },
        "id": "uZuFks57o50w",
        "outputId": "da9b1585-e9c7-44e0-c8f1-ce046f8cebd2"
      },
      "source": [
        "# cd and show workspace layout\n",
        "%cd /content/drive/MyDrive/Othello_zero/\n",
        "!ls"
      ],
      "execution_count": 3,
      "outputs": [
        {
          "output_type": "stream",
          "name": "stdout",
          "text": [
            "/content/drive/MyDrive/Othello_zero\n",
            "DNN.py\t models\t\t     OthelloGame.py   __pycache__  vsplayer.py\n",
            "MCTS.py  ModelVaildation.py  OthelloLogic.py  train.py\n"
          ]
        }
      ]
    },
    {
      "cell_type": "code",
      "metadata": {
        "id": "AvlueknvtRI1"
      },
      "source": [
        "# train.py --model [MODEL] [num_ep]\n",
        "# train the model with given number of epochs\n",
        "# !python3 train.py 3000"
      ],
      "execution_count": 4,
      "outputs": []
    },
    {
      "cell_type": "code",
      "metadata": {
        "id": "UiAxDszcztcw"
      },
      "source": [
        "# ModelVaildation.py --model1 [MODEL1] --model2 [MODEL2] [-n] [#GAMES] -p [#SIM]\n",
        "# run two model against each other in n games, and the MCTS simulation limit is p\n",
        "# !python3 ModelVaildation.py --model1 models/checkpoint8700.pt --model2 models/checkpoint6500.pt -n 4 -p 1600"
      ],
      "execution_count": null,
      "outputs": []
    },
    {
      "cell_type": "markdown",
      "metadata": {
        "id": "o3hGjkpjyzHN"
      },
      "source": [
        "## Model validation detail\n",
        "\n",
        "### Model against MCTS pure (in 20 games, 400 simulations per move)\n",
        "\\begin{array}{|c|c|c|c|}\\hline\\\\ \n",
        "  \\text{Model Checkpoint} & Win & Draw & Loss \\\\ \\hline\\\\ \n",
        "  20 & 7 & 0 & 13 \\\\ \\hline \\\\ \n",
        "  500 & 15 & 0 & 5 \\\\ \\hline \\\\\n",
        "  1000 & 19 & 0 & 1 \\\\ \\hline \\\\\n",
        "  1500 & 20 & 0 & 0 \\\\ \\hline\n",
        "\\end{array}\n",
        "* In checkpoint1300, model start to takes corner and has high evaluation value when it takes corner.\n",
        "\n",
        "### Model against checkpoint 1500 (in 20 games, 400 simulations per move)\n",
        "\\begin{array}{|c|c|c|c|}\\hline\\\\ \n",
        "  \\text{Model Checkpoint} & Win & Draw & Loss \\\\ \\hline\\\\ \n",
        "  2000 & 8 & 0 & 12 \\\\ \\hline \\\\ \n",
        "  2500 & 3 & 1 & 16 \\\\ \\hline \\\\\n",
        "  3100 & 20 & 0 & 0 \\\\ \\hline \n",
        "\\end{array}\n",
        "\n",
        "* In checkpoint2100 vs checkpoint2000 demo game,\n",
        "```\n",
        "C4E3F2E2F3G3E1D1H4F1F6H3H2C6C5B6C7D8C8B8A5B4A3A4B3A6B5C2A7B7D7E7A8G5F7F8E8E6G6H6C3G8C1B1H5H1G1G7H8A2A1G2G4D2B2F4D3F5D6H7\n",
        "```\n",
        "checkpoint2100 finds a corner exchange technique (...H5H1G1...to win A1 corner and A1-G1 edge, also called Stoner Trap).\n",
        "* In checkpoint3000, more complex corner trap/technique has benn played, but still play some major blunder in middle game, \n",
        "usually when the winning/losing move is sharp and needs to play a sequence of only move to turn around.\n",
        "* In checkpoint3100, model starts to understand mobility play and force opponent to lose corner.\n",
        "\n",
        "### Model against checkpoint 3100 (in 20 games, 1600 simulations per move)\n",
        "\\begin{array}{|c|c|c|c|}\\hline\\\\ \n",
        "  \\text{Model Checkpoint} & Win & Draw & Loss \\\\ \\hline\\\\ \n",
        "  3500 & 11 & 0 & 9 \\\\ \\hline \\\\ \n",
        "  4000 & 12 & 1 & 7 \\\\ \\hline \\\\\n",
        "  4500 & 16 & 2 & 2 \\\\ \\hline \\\\\n",
        "  5000 & 15 & 2 & 3 \\\\ \\hline \\\\\n",
        "  5500 & 17 & 1 & 2 \\\\ \\hline \\\\\n",
        "  6000 & 17 & 1 & 2 \\\\ \\hline \\\\\n",
        "  6500 & 19 & 1 & 0 \\\\ \\hline\n",
        "\\end{array}\n",
        "* Around checkpoint5000, model starts to understand stability and becomes a better endgame player.\n",
        "* A very cool game played between checkpoint5400(white) and checkpoint3100(black) that shows model understand both stability and mobility.\n",
        "\n",
        "```\n",
        "D3C5D6E7D7C7D8C3F8F4G3C6C4E8C8G8H8B3C2D1C1D2E1B4E6G4F5B5A6A5H3A7A3B6A4B7F3E2A8F6F1E3F2G5H4G2H1F7G6H2G1B2B1A1A2H6H5B8H7G7\n",
        "```\n",
        "* checkpoint5400 (4000 sims) is able to beat Wzebra depth-3.\n",
        "\n",
        "### Model against checkpoint 6500 (in 20 games, 1600 simulations per move)\n",
        "\\begin{array}{|c|c|c|c|}\\hline\\\\ \n",
        "  \\text{Model Checkpoint} & Win & Draw & Loss \\\\ \\hline\\\\ \n",
        "  7000 & 9 & 0 & 11 \\\\ \\hline \\\\ \n",
        "  8700 & 12 & 2 & 6 \\\\ \\hline\n",
        "\\end{array}"
      ]
    },
    {
      "cell_type": "code",
      "metadata": {
        "colab": {
          "base_uri": "https://localhost:8080/"
        },
        "id": "xa3KPrYNXtUa",
        "outputId": "e2776b4a-0bbf-4525-d28f-3a867cbcd84a"
      },
      "source": [
        "# run vsplayer.py to play against the current model\n",
        "# shared url of latest model: \n",
        "# https://drive.google.com/drive/folders/1SbR0mbXjgQlrO-w4ynYZQY8-4UtKLD5r?usp=sharing\n",
        "# vsplayer.py --model [MODEL_PATH] -p [NUM_SIMULATION] --cur [1 for Black, -1 for White]\n",
        "# !python3 vsplayer.py --model models/checkpoint8700.pt -p 4000 --cur 1 ---> strong enough to beat me but slow\n",
        "!python3 vsplayer.py --model models/checkpoint8700.pt -p 1600 --cur 1"
      ],
      "execution_count": 7,
      "outputs": [
        {
          "output_type": "stream",
          "name": "stdout",
          "text": [
            "device: cuda\n",
            "load model1 from models/checkpoint8700.pt\n",
            "1\n",
            "\\ABCDEFGH\n",
            "1........\n",
            "2........\n",
            "3........\n",
            "4...O@...\n",
            "5...@O...\n",
            "6........\n",
            "7........\n",
            "8........\n",
            "2 - 2\n",
            "result: (0, 0)\n",
            "player: ['E6', 'F5', 'C4', 'D3']\n",
            "d3\n",
            "-1\n",
            "\\ABCDEFGH\n",
            "1........\n",
            "2........\n",
            "3...@....\n",
            "4...@@...\n",
            "5...@O...\n",
            "6........\n",
            "7........\n",
            "8........\n",
            "4 - 1\n",
            "result: (0, 0)\n",
            "nnet: C3\n",
            "score: -0.021946039510585283\n",
            "1\n",
            "\\ABCDEFGH\n",
            "1........\n",
            "2........\n",
            "3..O@....\n",
            "4...O@...\n",
            "5...@O...\n",
            "6........\n",
            "7........\n",
            "8........\n",
            "3 - 3\n",
            "result: (0, 0)\n",
            "player: ['E6', 'F5', 'C4', 'B3']\n",
            "c4\n",
            "-1\n",
            "\\ABCDEFGH\n",
            "1........\n",
            "2........\n",
            "3..O@....\n",
            "4..@@@...\n",
            "5...@O...\n",
            "6........\n",
            "7........\n",
            "8........\n",
            "5 - 2\n",
            "result: (0, 0)\n",
            "nnet: C5\n",
            "score: -0.01513123650009219\n",
            "1\n",
            "\\ABCDEFGH\n",
            "1........\n",
            "2........\n",
            "3..O@....\n",
            "4..O@@...\n",
            "5..OOO...\n",
            "6........\n",
            "7........\n",
            "8........\n",
            "3 - 5\n",
            "result: (0, 0)\n",
            "player: ['B6', 'C6', 'D6', 'E6', 'F6', 'B5', 'B4', 'B3', 'B2']\n",
            "d6\n",
            "-1\n",
            "\\ABCDEFGH\n",
            "1........\n",
            "2........\n",
            "3..O@....\n",
            "4..O@@...\n",
            "5..O@O...\n",
            "6...@....\n",
            "7........\n",
            "8........\n",
            "5 - 4\n",
            "result: (0, 0)\n",
            "nnet: E2\n",
            "score: -0.03527347345076127\n",
            "1\n",
            "\\ABCDEFGH\n",
            "1........\n",
            "2....O...\n",
            "3..OO....\n",
            "4..O@@...\n",
            "5..O@O...\n",
            "6...@....\n",
            "7........\n",
            "8........\n",
            "4 - 6\n",
            "result: (0, 0)\n",
            "player: ['B6', 'E6', 'F6', 'B5', 'F5', 'B4', 'F4', 'B3', 'B2', 'C2', 'D2']\n",
            "\n"
          ]
        }
      ]
    }
  ]
}